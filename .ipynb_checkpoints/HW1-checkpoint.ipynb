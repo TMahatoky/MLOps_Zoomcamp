{
 "cells": [
  {
   "cell_type": "code",
   "execution_count": 1,
   "id": "c562316a-a7eb-4407-829a-64afff1c7c45",
   "metadata": {},
   "outputs": [],
   "source": [
    "import pandas as pd\n",
    "from sklearn.feature_extraction import DictVectorizer \n",
    "from sklearn.metrics import mean_squared_error\n",
    "from sklearn.linear_model import LinearRegression"
   ]
  },
  {
   "cell_type": "code",
   "execution_count": 2,
   "id": "29400d0f-04c6-439e-97e2-256f58499f3e",
   "metadata": {},
   "outputs": [],
   "source": [
    "df1 = pd.read_parquet(\"yellow_tripdata_2022-01.parquet\")"
   ]
  },
  {
   "cell_type": "code",
   "execution_count": 3,
   "id": "5b7aa8f0-3da5-4ec1-a364-128daae6a8b0",
   "metadata": {},
   "outputs": [
    {
     "name": "stdout",
     "output_type": "stream",
     "text": [
      "<class 'pandas.core.frame.DataFrame'>\n",
      "RangeIndex: 2463931 entries, 0 to 2463930\n",
      "Data columns (total 19 columns):\n",
      " #   Column                 Dtype         \n",
      "---  ------                 -----         \n",
      " 0   VendorID               int64         \n",
      " 1   tpep_pickup_datetime   datetime64[ns]\n",
      " 2   tpep_dropoff_datetime  datetime64[ns]\n",
      " 3   passenger_count        float64       \n",
      " 4   trip_distance          float64       \n",
      " 5   RatecodeID             float64       \n",
      " 6   store_and_fwd_flag     object        \n",
      " 7   PULocationID           int64         \n",
      " 8   DOLocationID           int64         \n",
      " 9   payment_type           int64         \n",
      " 10  fare_amount            float64       \n",
      " 11  extra                  float64       \n",
      " 12  mta_tax                float64       \n",
      " 13  tip_amount             float64       \n",
      " 14  tolls_amount           float64       \n",
      " 15  improvement_surcharge  float64       \n",
      " 16  total_amount           float64       \n",
      " 17  congestion_surcharge   float64       \n",
      " 18  airport_fee            float64       \n",
      "dtypes: datetime64[ns](2), float64(12), int64(4), object(1)\n",
      "memory usage: 357.2+ MB\n"
     ]
    }
   ],
   "source": [
    "df1.info()"
   ]
  },
  {
   "cell_type": "code",
   "execution_count": 4,
   "id": "fe26b26e-0c5a-4fdd-8876-313b286ea38c",
   "metadata": {},
   "outputs": [
    {
     "data": {
      "text/plain": [
       "19"
      ]
     },
     "execution_count": 4,
     "metadata": {},
     "output_type": "execute_result"
    }
   ],
   "source": [
    "#Q1. Number of columns \n",
    "len(df1.columns)"
   ]
  },
  {
   "cell_type": "code",
   "execution_count": 5,
   "id": "13fa2bb9-9712-4d23-bc9c-fb9f3b4881f0",
   "metadata": {},
   "outputs": [
    {
     "data": {
      "text/html": [
       "<div>\n",
       "<style scoped>\n",
       "    .dataframe tbody tr th:only-of-type {\n",
       "        vertical-align: middle;\n",
       "    }\n",
       "\n",
       "    .dataframe tbody tr th {\n",
       "        vertical-align: top;\n",
       "    }\n",
       "\n",
       "    .dataframe thead th {\n",
       "        text-align: right;\n",
       "    }\n",
       "</style>\n",
       "<table border=\"1\" class=\"dataframe\">\n",
       "  <thead>\n",
       "    <tr style=\"text-align: right;\">\n",
       "      <th></th>\n",
       "      <th>VendorID</th>\n",
       "      <th>tpep_pickup_datetime</th>\n",
       "      <th>tpep_dropoff_datetime</th>\n",
       "      <th>passenger_count</th>\n",
       "      <th>trip_distance</th>\n",
       "      <th>RatecodeID</th>\n",
       "      <th>store_and_fwd_flag</th>\n",
       "      <th>PULocationID</th>\n",
       "      <th>DOLocationID</th>\n",
       "      <th>payment_type</th>\n",
       "      <th>fare_amount</th>\n",
       "      <th>extra</th>\n",
       "      <th>mta_tax</th>\n",
       "      <th>tip_amount</th>\n",
       "      <th>tolls_amount</th>\n",
       "      <th>improvement_surcharge</th>\n",
       "      <th>total_amount</th>\n",
       "      <th>congestion_surcharge</th>\n",
       "      <th>airport_fee</th>\n",
       "    </tr>\n",
       "  </thead>\n",
       "  <tbody>\n",
       "    <tr>\n",
       "      <th>0</th>\n",
       "      <td>1</td>\n",
       "      <td>2022-01-01 00:35:40</td>\n",
       "      <td>2022-01-01 00:53:29</td>\n",
       "      <td>2.0</td>\n",
       "      <td>3.80</td>\n",
       "      <td>1.0</td>\n",
       "      <td>N</td>\n",
       "      <td>142</td>\n",
       "      <td>236</td>\n",
       "      <td>1</td>\n",
       "      <td>14.5</td>\n",
       "      <td>3.0</td>\n",
       "      <td>0.5</td>\n",
       "      <td>3.65</td>\n",
       "      <td>0.0</td>\n",
       "      <td>0.3</td>\n",
       "      <td>21.95</td>\n",
       "      <td>2.5</td>\n",
       "      <td>0.0</td>\n",
       "    </tr>\n",
       "    <tr>\n",
       "      <th>1</th>\n",
       "      <td>1</td>\n",
       "      <td>2022-01-01 00:33:43</td>\n",
       "      <td>2022-01-01 00:42:07</td>\n",
       "      <td>1.0</td>\n",
       "      <td>2.10</td>\n",
       "      <td>1.0</td>\n",
       "      <td>N</td>\n",
       "      <td>236</td>\n",
       "      <td>42</td>\n",
       "      <td>1</td>\n",
       "      <td>8.0</td>\n",
       "      <td>0.5</td>\n",
       "      <td>0.5</td>\n",
       "      <td>4.00</td>\n",
       "      <td>0.0</td>\n",
       "      <td>0.3</td>\n",
       "      <td>13.30</td>\n",
       "      <td>0.0</td>\n",
       "      <td>0.0</td>\n",
       "    </tr>\n",
       "    <tr>\n",
       "      <th>2</th>\n",
       "      <td>2</td>\n",
       "      <td>2022-01-01 00:53:21</td>\n",
       "      <td>2022-01-01 01:02:19</td>\n",
       "      <td>1.0</td>\n",
       "      <td>0.97</td>\n",
       "      <td>1.0</td>\n",
       "      <td>N</td>\n",
       "      <td>166</td>\n",
       "      <td>166</td>\n",
       "      <td>1</td>\n",
       "      <td>7.5</td>\n",
       "      <td>0.5</td>\n",
       "      <td>0.5</td>\n",
       "      <td>1.76</td>\n",
       "      <td>0.0</td>\n",
       "      <td>0.3</td>\n",
       "      <td>10.56</td>\n",
       "      <td>0.0</td>\n",
       "      <td>0.0</td>\n",
       "    </tr>\n",
       "    <tr>\n",
       "      <th>3</th>\n",
       "      <td>2</td>\n",
       "      <td>2022-01-01 00:25:21</td>\n",
       "      <td>2022-01-01 00:35:23</td>\n",
       "      <td>1.0</td>\n",
       "      <td>1.09</td>\n",
       "      <td>1.0</td>\n",
       "      <td>N</td>\n",
       "      <td>114</td>\n",
       "      <td>68</td>\n",
       "      <td>2</td>\n",
       "      <td>8.0</td>\n",
       "      <td>0.5</td>\n",
       "      <td>0.5</td>\n",
       "      <td>0.00</td>\n",
       "      <td>0.0</td>\n",
       "      <td>0.3</td>\n",
       "      <td>11.80</td>\n",
       "      <td>2.5</td>\n",
       "      <td>0.0</td>\n",
       "    </tr>\n",
       "    <tr>\n",
       "      <th>4</th>\n",
       "      <td>2</td>\n",
       "      <td>2022-01-01 00:36:48</td>\n",
       "      <td>2022-01-01 01:14:20</td>\n",
       "      <td>1.0</td>\n",
       "      <td>4.30</td>\n",
       "      <td>1.0</td>\n",
       "      <td>N</td>\n",
       "      <td>68</td>\n",
       "      <td>163</td>\n",
       "      <td>1</td>\n",
       "      <td>23.5</td>\n",
       "      <td>0.5</td>\n",
       "      <td>0.5</td>\n",
       "      <td>3.00</td>\n",
       "      <td>0.0</td>\n",
       "      <td>0.3</td>\n",
       "      <td>30.30</td>\n",
       "      <td>2.5</td>\n",
       "      <td>0.0</td>\n",
       "    </tr>\n",
       "  </tbody>\n",
       "</table>\n",
       "</div>"
      ],
      "text/plain": [
       "   VendorID tpep_pickup_datetime tpep_dropoff_datetime  passenger_count  \\\n",
       "0         1  2022-01-01 00:35:40   2022-01-01 00:53:29              2.0   \n",
       "1         1  2022-01-01 00:33:43   2022-01-01 00:42:07              1.0   \n",
       "2         2  2022-01-01 00:53:21   2022-01-01 01:02:19              1.0   \n",
       "3         2  2022-01-01 00:25:21   2022-01-01 00:35:23              1.0   \n",
       "4         2  2022-01-01 00:36:48   2022-01-01 01:14:20              1.0   \n",
       "\n",
       "   trip_distance  RatecodeID store_and_fwd_flag  PULocationID  DOLocationID  \\\n",
       "0           3.80         1.0                  N           142           236   \n",
       "1           2.10         1.0                  N           236            42   \n",
       "2           0.97         1.0                  N           166           166   \n",
       "3           1.09         1.0                  N           114            68   \n",
       "4           4.30         1.0                  N            68           163   \n",
       "\n",
       "   payment_type  fare_amount  extra  mta_tax  tip_amount  tolls_amount  \\\n",
       "0             1         14.5    3.0      0.5        3.65           0.0   \n",
       "1             1          8.0    0.5      0.5        4.00           0.0   \n",
       "2             1          7.5    0.5      0.5        1.76           0.0   \n",
       "3             2          8.0    0.5      0.5        0.00           0.0   \n",
       "4             1         23.5    0.5      0.5        3.00           0.0   \n",
       "\n",
       "   improvement_surcharge  total_amount  congestion_surcharge  airport_fee  \n",
       "0                    0.3         21.95                   2.5          0.0  \n",
       "1                    0.3         13.30                   0.0          0.0  \n",
       "2                    0.3         10.56                   0.0          0.0  \n",
       "3                    0.3         11.80                   2.5          0.0  \n",
       "4                    0.3         30.30                   2.5          0.0  "
      ]
     },
     "execution_count": 5,
     "metadata": {},
     "output_type": "execute_result"
    }
   ],
   "source": [
    "df1.head()"
   ]
  },
  {
   "cell_type": "code",
   "execution_count": 6,
   "id": "81cf29a6-f03b-49d2-b65b-3145bf95f8c6",
   "metadata": {},
   "outputs": [],
   "source": [
    "df1[\"duration\"] = df1[\"tpep_dropoff_datetime\"] - df1[\"tpep_pickup_datetime\"]"
   ]
  },
  {
   "cell_type": "code",
   "execution_count": 7,
   "id": "6c94f2c1-9e1f-4a5f-b378-94ec2fe2974d",
   "metadata": {},
   "outputs": [],
   "source": [
    "df1.duration = df1.duration.map(lambda x: round((x.total_seconds())/60, 2))"
   ]
  },
  {
   "cell_type": "code",
   "execution_count": 8,
   "id": "2739ddf8-2b36-4059-b7ed-2d153e44b9e9",
   "metadata": {},
   "outputs": [
    {
     "data": {
      "text/plain": [
       "46.445303029643036"
      ]
     },
     "execution_count": 8,
     "metadata": {},
     "output_type": "execute_result"
    }
   ],
   "source": [
    "#Q2. Standard deviation of the trips duration in January \n",
    "df1.describe().duration.loc[\"std\"]"
   ]
  },
  {
   "cell_type": "code",
   "execution_count": 9,
   "id": "cfec9771-5466-4968-a13c-f5bfcd0e716c",
   "metadata": {},
   "outputs": [],
   "source": [
    "new_df1 = df1.copy()"
   ]
  },
  {
   "cell_type": "code",
   "execution_count": 10,
   "id": "2fe0ae50-ebd0-4eaa-81a2-0795dab9ba09",
   "metadata": {},
   "outputs": [],
   "source": [
    "new_df1 = new_df1[(new_df1[\"duration\"] >= 1) & (new_df1[\"duration\"] <= 60)]"
   ]
  },
  {
   "cell_type": "code",
   "execution_count": 11,
   "id": "aa363d4b-1c4b-4bb0-bd61-111eaeb552d0",
   "metadata": {},
   "outputs": [
    {
     "data": {
      "text/plain": [
       "98.27547930522405"
      ]
     },
     "execution_count": 11,
     "metadata": {},
     "output_type": "execute_result"
    }
   ],
   "source": [
    "#Q3. Fraction of the records left after dropping of the outliers \n",
    "(new_df1.shape[0]/df1.shape[0])*100"
   ]
  },
  {
   "cell_type": "code",
   "execution_count": 12,
   "id": "1f54b95f-ca7b-4107-900a-ff750f8058ce",
   "metadata": {},
   "outputs": [],
   "source": [
    "sample = new_df1[[\"PULocationID\", \"DOLocationID\"]]"
   ]
  },
  {
   "cell_type": "code",
   "execution_count": 13,
   "id": "eabbe3df-0c6e-4d7a-8a26-4d79f8cd5fd5",
   "metadata": {},
   "outputs": [],
   "source": [
    "sample = sample.astype(str)"
   ]
  },
  {
   "cell_type": "code",
   "execution_count": 14,
   "id": "f9b07c17-6653-400a-a1d4-77303f56b380",
   "metadata": {},
   "outputs": [],
   "source": [
    "sample_dict = sample.to_dict(\"records\")"
   ]
  },
  {
   "cell_type": "code",
   "execution_count": 15,
   "id": "4fd7481c-7b16-44ab-b416-e14e9c4e9b6c",
   "metadata": {},
   "outputs": [],
   "source": [
    "V = DictVectorizer()"
   ]
  },
  {
   "cell_type": "code",
   "execution_count": 16,
   "id": "7b6d3eba-021c-4d80-a51f-0450e33b9666",
   "metadata": {},
   "outputs": [],
   "source": [
    "result = V.fit_transform(sample_dict)"
   ]
  },
  {
   "cell_type": "code",
   "execution_count": 18,
   "id": "09c5b383-1569-4969-b7d3-d8b500d5b7c2",
   "metadata": {},
   "outputs": [
    {
     "data": {
      "text/plain": [
       "515"
      ]
     },
     "execution_count": 18,
     "metadata": {},
     "output_type": "execute_result"
    }
   ],
   "source": [
    "#Q4. Dimensionality of the obtained matrix \n",
    "result.shape[1]"
   ]
  },
  {
   "cell_type": "code",
   "execution_count": 19,
   "id": "dd276187-2f09-4cb0-b6d0-1a773bce1a69",
   "metadata": {},
   "outputs": [],
   "source": [
    "model = LinearRegression()"
   ]
  },
  {
   "cell_type": "code",
   "execution_count": 20,
   "id": "7a4e58f1-0b52-458a-a86f-2cdc5e005337",
   "metadata": {},
   "outputs": [],
   "source": [
    "target = \"duration\"\n",
    "y = new_df1[target].values"
   ]
  },
  {
   "cell_type": "code",
   "execution_count": 21,
   "id": "43a2434e-6aa2-42c7-9357-b60af242fd57",
   "metadata": {},
   "outputs": [
    {
     "data": {
      "text/plain": [
       "array([17.82,  8.4 ,  8.97, ..., 11.  , 12.05, 27.  ])"
      ]
     },
     "execution_count": 21,
     "metadata": {},
     "output_type": "execute_result"
    }
   ],
   "source": [
    "y"
   ]
  },
  {
   "cell_type": "code",
   "execution_count": 22,
   "id": "0e1f06f8-5180-45dc-97cb-bbe8788fb464",
   "metadata": {},
   "outputs": [
    {
     "data": {
      "text/plain": [
       "LinearRegression()"
      ]
     },
     "execution_count": 22,
     "metadata": {},
     "output_type": "execute_result"
    }
   ],
   "source": [
    "model.fit(result, y)"
   ]
  },
  {
   "cell_type": "code",
   "execution_count": 23,
   "id": "08929113-9d67-41ad-bebe-701af3117c7f",
   "metadata": {},
   "outputs": [],
   "source": [
    "y_pred = model.predict(result)"
   ]
  },
  {
   "cell_type": "code",
   "execution_count": 24,
   "id": "00f115cf-ea13-4dea-9f89-0f301a1754c2",
   "metadata": {},
   "outputs": [
    {
     "data": {
      "text/plain": [
       "6.986191820263139"
      ]
     },
     "execution_count": 24,
     "metadata": {},
     "output_type": "execute_result"
    }
   ],
   "source": [
    "#Q5. RMSE on train\n",
    "mean_squared_error(y, y_pred, squared = False)"
   ]
  },
  {
   "cell_type": "code",
   "execution_count": 25,
   "id": "101e1b94-2a64-4bad-a8d8-1b7ffe7cee5f",
   "metadata": {},
   "outputs": [],
   "source": [
    "def wrangle(path): \n",
    "    df = pd.read_parquet(path)\n",
    "    df[\"duration\"] = df[\"tpep_dropoff_datetime\"] - df[\"tpep_pickup_datetime\"]\n",
    "    df.duration = df.duration.map(lambda x: round(x.total_seconds()/60, 2))\n",
    "    df = df[(df[\"duration\"] >=1) & (df[\"duration\"] <=60)]\n",
    "    return df "
   ]
  },
  {
   "cell_type": "code",
   "execution_count": 26,
   "id": "06504b91-12d6-43b8-a0ac-6d850366c150",
   "metadata": {},
   "outputs": [],
   "source": [
    "df2 = wrangle(\"yellow_tripdata_2022-02.parquet\")"
   ]
  },
  {
   "cell_type": "code",
   "execution_count": 27,
   "id": "18f16453-f4ea-45dc-932e-bfea14ce60be",
   "metadata": {},
   "outputs": [],
   "source": [
    "sample2 = df2[[\"PULocationID\", \"DOLocationID\"]]"
   ]
  },
  {
   "cell_type": "code",
   "execution_count": 28,
   "id": "63e6dfda-62d4-431c-8dcb-4a65320ae8e2",
   "metadata": {},
   "outputs": [],
   "source": [
    "sample2 = sample2.astype(str)"
   ]
  },
  {
   "cell_type": "code",
   "execution_count": 29,
   "id": "b66f43cd-0cb2-42b0-b413-ae6f813f9aa2",
   "metadata": {},
   "outputs": [],
   "source": [
    "sample_dict2 = sample2.to_dict(\"records\")"
   ]
  },
  {
   "cell_type": "code",
   "execution_count": 30,
   "id": "1241ead5-1b27-466b-8760-55807d733b9a",
   "metadata": {},
   "outputs": [],
   "source": [
    "encoded_X = V.transform(sample_dict2)"
   ]
  },
  {
   "cell_type": "code",
   "execution_count": 32,
   "id": "f9bb5bad-b1df-41aa-a1a2-fef377d28862",
   "metadata": {},
   "outputs": [],
   "source": [
    "y_val = df2[target].values"
   ]
  },
  {
   "cell_type": "code",
   "execution_count": 33,
   "id": "34137744-057f-4def-acff-1114bf300483",
   "metadata": {},
   "outputs": [],
   "source": [
    "y_val_pred = model.predict(encoded_X)"
   ]
  },
  {
   "cell_type": "code",
   "execution_count": 36,
   "id": "5bbe0739-20c1-49b2-9f30-78015b2519bc",
   "metadata": {},
   "outputs": [],
   "source": [
    "RMSE_val = mean_squared_error(y_val, y_val_pred, squared = False)"
   ]
  },
  {
   "cell_type": "code",
   "execution_count": 37,
   "id": "598c1758-4bfd-46d1-829e-1b325f9cf269",
   "metadata": {},
   "outputs": [
    {
     "data": {
      "text/plain": [
       "7.786408265501658"
      ]
     },
     "execution_count": 37,
     "metadata": {},
     "output_type": "execute_result"
    }
   ],
   "source": [
    "#Q6. RMSE on Validation \n",
    "RMSE_val"
   ]
  },
  {
   "cell_type": "code",
   "execution_count": null,
   "id": "ac0551fc-16b4-47ae-b0f9-73829378c638",
   "metadata": {},
   "outputs": [],
   "source": []
  }
 ],
 "metadata": {
  "kernelspec": {
   "display_name": "Python 3 (ipykernel)",
   "language": "python",
   "name": "python3"
  },
  "language_info": {
   "codemirror_mode": {
    "name": "ipython",
    "version": 3
   },
   "file_extension": ".py",
   "mimetype": "text/x-python",
   "name": "python",
   "nbconvert_exporter": "python",
   "pygments_lexer": "ipython3",
   "version": "3.9.7"
  }
 },
 "nbformat": 4,
 "nbformat_minor": 5
}
